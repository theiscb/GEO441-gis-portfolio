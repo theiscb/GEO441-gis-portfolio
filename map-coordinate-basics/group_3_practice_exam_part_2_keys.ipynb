{
  "nbformat": 4,
  "nbformat_minor": 0,
  "metadata": {
    "colab": {
      "provenance": [],
      "include_colab_link": true
    },
    "kernelspec": {
      "name": "python3",
      "display_name": "Python 3"
    },
    "language_info": {
      "name": "python"
    }
  },
  "cells": [
    {
      "cell_type": "markdown",
      "metadata": {
        "id": "view-in-github",
        "colab_type": "text"
      },
      "source": [
        "<a href=\"https://colab.research.google.com/github/theiscb/GEO441-gis-portfolio/blob/main/map-coordinate-basics/group_3_practice_exam_part_2_keys.ipynb\" target=\"_parent\"><img src=\"https://colab.research.google.com/assets/colab-badge.svg\" alt=\"Open In Colab\"/></a>"
      ]
    },
    {
      "cell_type": "markdown",
      "source": [
        "# **Practice Exam Part 2: Solutions and Answers**"
      ],
      "metadata": {
        "id": "C0ymCPR5aSHN"
      }
    },
    {
      "cell_type": "markdown",
      "source": [
        "🚀 Created by GEO 441/541B | Final Project Group 2\n",
        "\n",
        "10/02/2024"
      ],
      "metadata": {
        "id": "Pt_OREXFPvkr"
      }
    },
    {
      "cell_type": "markdown",
      "source": [
        "## **Get ready to start**\n",
        "\n",
        "- Each group checks the answer of a designated section\n",
        "- For each question, check\n",
        "  - The SQL sentence\n",
        "  - Extra steps needed in ArcGIS Pro\n",
        "  - The answer"
      ],
      "metadata": {
        "id": "CMQN_pgaHVLO"
      }
    },
    {
      "cell_type": "markdown",
      "source": [
        "## **Group 3: Select intersecting features | Use `OR` to combine conditions**"
      ],
      "metadata": {
        "id": "tRSR3Vy6xs0d"
      }
    },
    {
      "cell_type": "markdown",
      "source": [
        "**Question 4: How many counties intersect with Sacramento County, California?**\n",
        "\n",
        "- **Steps in ArcGIS**\n",
        "  1. Use Select By Attributes to select `Sacramento County, California` with `STATE_NAME` equals to `California` **AND** `NAME` equals to `Sacramento`\n",
        "  2. Open Select by Location tool\n",
        "  3. Set **Input features** as `USA_county_labor_force_data_2020_2023`\n",
        "  3. Set **Relationship** as **Intersect**\n",
        "  4. Keep using the same layer in **Selecting Features**\n",
        "  5. Make sure to turn on **Use the selected records**\n",
        "  6. Run selection\n",
        "  7. Open attribute table and switch to **Show Selected Records** mode to check results\n",
        "  8. Get the # of selected counties at the bottom of the attribute table window\n",
        "- **SQL sentence**\n",
        "  - `  NAME = 'Sacramento' AND  STATE_NAME = 'California' `\n",
        "- **Answer**\n",
        "  - `9`"
      ],
      "metadata": {
        "id": "t9suYjuYxxch"
      }
    },
    {
      "cell_type": "markdown",
      "source": [
        "**Question 14: How many counties in this file have their names start by 'Santa' or 'San'?**\n",
        "\n",
        "- **SQL sentence**\n",
        "  - ` NAME LIKE 'Santa%'  OR  'San%' `\n",
        "- **Answer**\n",
        "  - `35`\n",
        "- **Alternative solution**\n",
        "  - **SQL sentence**\n",
        "    - ` NAME LIKE 'San%' `\n",
        "    - In this question, counties with their name start with 'San' already include those with their name start with 'Santa'"
      ],
      "metadata": {
        "id": "4OjdWLd8x3dp"
      }
    },
    {
      "cell_type": "markdown",
      "source": [
        "**Question 15: Among all counties with names starting with 'Santa' or 'San', ________ in the State of _____ has the highest unemployment rate in 2020.**\n",
        "\n",
        "- Use `UNEMLY_RATE_20` field as the unemployment rate for 2020\n",
        "- Copy the values from `NAMELSAD` and `STATE_NAME` as your answers to the first blank and the\n",
        "second blank.\n",
        "\n",
        "- **Steps in ArcGIS**\n",
        "  1. Select all counties with `NAME` begin with `Santa` **Or** `San`\n",
        "  2. Open attribute table and switch to **Show Selected Records** mode to check results\n",
        "  3. Right-click the field name of `UNEMLY_RATE_20` to sort this field descendingly\n",
        "  4. Find the top row (highest unemployment rate of 2020)\n",
        "  5. Find `NAMESLAD` of the top row to **copy cell content** as our answer for the first blank, then do the same for `STATE_NAME` to get answer for the second blank\n",
        "- **SQL sentence**\n",
        "  - ` NAME LIKE 'Santa%'  OR  NAME LIKE 'San%' `\n",
        "- **Answer**\n",
        "  - `San Joaquin County`, `California`"
      ],
      "metadata": {
        "id": "_v2r4mPIyJyl"
      }
    },
    {
      "cell_type": "markdown",
      "source": [
        "**Tips and advice to answer these questions**\n",
        "\n",
        "Ensure you are looking within the proper data subset. When it asks for unemployment rate for counties that start with San or Santa, ensure the attribute table only includes counties that have this attribute.\n",
        "\n",
        "---"
      ],
      "metadata": {
        "id": "jF-LJrYlFE2j"
      }
    },
    {
      "cell_type": "markdown",
      "source": [
        "## **Reference**\n",
        "\n",
        "- [Markdown cheat sheet](https://www.markdownguide.org/cheat-sheet/)"
      ],
      "metadata": {
        "id": "fvMbEX89YLeY"
      }
    }
  ]
}