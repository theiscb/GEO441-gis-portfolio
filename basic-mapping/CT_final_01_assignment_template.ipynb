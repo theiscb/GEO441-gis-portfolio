{
  "nbformat": 4,
  "nbformat_minor": 0,
  "metadata": {
    "colab": {
      "provenance": [],
      "include_colab_link": true
    },
    "kernelspec": {
      "name": "python3",
      "display_name": "Python 3"
    },
    "language_info": {
      "name": "python"
    }
  },
  "cells": [
    {
      "cell_type": "markdown",
      "metadata": {
        "id": "view-in-github",
        "colab_type": "text"
      },
      "source": [
        "<a href=\"https://colab.research.google.com/github/theiscb/GEO441-gis-portfolio/blob/main/basic-mapping/CT_final_01_assignment_template.ipynb\" target=\"_parent\"><img src=\"https://colab.research.google.com/assets/colab-badge.svg\" alt=\"Open In Colab\"/></a>"
      ]
    },
    {
      "cell_type": "markdown",
      "source": [
        "## **GEO 441B/541B Week 1 Assignment: Introduction to ArcGIS Pro GUI**"
      ],
      "metadata": {
        "id": "C0ymCPR5aSHN"
      }
    },
    {
      "cell_type": "markdown",
      "source": [
        "🚀 Created by Caleb Theis\n",
        "\n",
        "9/8/2024"
      ],
      "metadata": {
        "id": "Pt_OREXFPvkr"
      }
    },
    {
      "cell_type": "markdown",
      "source": [
        "### **Get ready to start**\n",
        "\n",
        "- Click **`File/Save a copy in Drive`** to save a copy of this notebook to my own Google Drive"
      ],
      "metadata": {
        "id": "CMQN_pgaHVLO"
      }
    },
    {
      "cell_type": "markdown",
      "source": [
        "### **Create my first map using ArcGIS Pro**\n",
        "\n",
        "1. **Instructions**\n",
        "   - Follow mapping instructions from [this Canvas file](https://miamioh.instructure.com/courses/218994/files/32640807?wrap=1)\n",
        "   - Mapping instructions are adapted from *Lab 1: Introduction to ArcGIS Pro* in [GIS Fundamentals Resources page](https://www.gisfundamentals.org/resources)\n",
        "\n",
        "2. **Share map**\n",
        "   - Upload the PNG file exported from ArcGIS Pro to my Google Drive folder for Week 1 assignment\n",
        "   - Change Share privilege to make this file viewable by anyone with a link\n",
        "   - Copy the sharable link\n",
        "\n",
        "3. **Obtain a sharable link**\n",
        "\n",
        "   - The default link I get for this PNG file is listed below but it cannot be directly used in Notebook to show the picture correctly\n",
        "```\n",
        "https://drive.google.com/file/d/1HoH_kEISgGwHvOe6sqhaOHBvn5xU1Duy/view?usp=sharing\n",
        "```\n",
        "   - I made some changes to the default sharable link:\n",
        "    - Keep the **`1A2B3C4D5E6F7G8H9I0J`** part because this is the unique file ID for the picture\n",
        "    - Deleted **`/view?usp=sharing`** at the end of the link\n",
        "    - Replaced **`/file/d/`** with **`/uc?export=view&id=`**\n",
        "   - Here is an example I referred to:\n",
        "    - Default sharable link\n",
        "```\n",
        "https://drive.google.com/file/d/1A2B3C4D5E6F7G8H9I0J/view?usp=sharing\n",
        "```\n",
        "    - The direct link for view from this example would be\n",
        "```\n",
        "https://drive.google.com/uc?export=view&id=1A2B3C4D5E6F7G8H9I0J\n",
        "```\n",
        "   - The link below is the correct one I need to use in the next section\n",
        "```\n",
        "https://drive.google.com/uc?export=view&id=1HoH_kEISgGwHvOe6sqhaOHBvn5xU1Duy\n",
        "```\n",
        "\n",
        "\n",
        "4. **Map**\n",
        "\n",
        "   ![Map](https://drive.google.com/uc?export=view&id=1HoH_kEISgGwHvOe6sqhaOHBvn5xU1Duy) <!-- Example Image Placeholder -->"
      ],
      "metadata": {
        "id": "WVs4J1jQbESU"
      }
    },
    {
      "cell_type": "markdown",
      "source": [
        "### **Reflection on my first experience with ArcGIS Pro**\n",
        "\n",
        "- Overall, I spent 3 hours to finish creating my first map\n",
        "- Here is a table showing things that I feel excited and challenging in my first experience working in ArcGIS Pro\n",
        "\n",
        "| Things I'm excited about      | Things challenging for me  |\n",
        "| ----------------------------- | -------------------------- |\n",
        "| Creating Images     | ARCGIS Formatting  |\n",
        "| Navagting ARCGIS    | Organiznig Documents|\n",
        "| Geographic Information     | Submission Instructions |\n",
        "\n",
        "- Here is how I rate my first experience working in ArcGIS Pro\n",
        "  - Data important and management\n",
        "    - The data was fairly easy to import, working on a PC in the lab made this much easier.\n",
        "  - Map creation and annotation\n",
        "    - The process was rather fluid outside of a few formatting contstraints.\n",
        "  - Navigate the software using its GUI\n",
        "    - This was much easier than anticipated. The informational videos are extremely helpful."
      ],
      "metadata": {
        "id": "i4RTLellbUh7"
      }
    },
    {
      "cell_type": "markdown",
      "source": [
        "### **Save and share this notebook**\n",
        "\n",
        "- I made this notebook viewable by anyone with the link\n",
        "\n",
        "![Share Notebook](https://drive.google.com/uc?export=view&id=1K4a3saeAXrzKcB4fkivkjUmLLWJ1R7oS)\n",
        "\n",
        "- Then I copied this link as my submission to Assignment Week 1"
      ],
      "metadata": {
        "id": "kkgukjDcXsqC"
      }
    },
    {
      "cell_type": "markdown",
      "source": [
        "### **Reference**\n",
        "\n",
        "- [Markdown cheat sheet](https://www.markdownguide.org/cheat-sheet/)\n"
      ],
      "metadata": {
        "id": "fvMbEX89YLeY"
      }
    }
  ]
}