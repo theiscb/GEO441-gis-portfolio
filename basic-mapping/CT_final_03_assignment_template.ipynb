{
  "nbformat": 4,
  "nbformat_minor": 0,
  "metadata": {
    "colab": {
      "provenance": [],
      "include_colab_link": true
    },
    "kernelspec": {
      "name": "python3",
      "display_name": "Python 3"
    },
    "language_info": {
      "name": "python"
    }
  },
  "cells": [
    {
      "cell_type": "markdown",
      "metadata": {
        "id": "view-in-github",
        "colab_type": "text"
      },
      "source": [
        "<a href=\"https://colab.research.google.com/github/theiscb/GEO441-gis-portfolio/blob/main/basic-mapping/CT_final_03_assignment_template.ipynb\" target=\"_parent\"><img src=\"https://colab.research.google.com/assets/colab-badge.svg\" alt=\"Open In Colab\"/></a>"
      ]
    },
    {
      "cell_type": "markdown",
      "source": [
        "# **Projecting Geographic Data**"
      ],
      "metadata": {
        "id": "C0ymCPR5aSHN"
      }
    },
    {
      "cell_type": "markdown",
      "source": [
        "🚀 Created by Caleb Theis\n",
        "\n",
        "9/17/2024"
      ],
      "metadata": {
        "id": "Pt_OREXFPvkr"
      }
    },
    {
      "cell_type": "markdown",
      "source": [
        "## **Overview**\n",
        "\n",
        "This notebook includes a map of reprojected Minnesota county boundaries with an inset global view. This is a start of more mapping exercise using different projections.\n",
        "\n",
        "Basic coordinate system information will be provided for the map. In next week, we will use maps produced under different projections and conduct measurement to understand the differences across projections. These recorded measurements will be entered into a worksheet."
      ],
      "metadata": {
        "id": "6tKmlbnzny_I"
      }
    },
    {
      "cell_type": "markdown",
      "source": [
        "## **Map Minnesoda counties**\n"
      ],
      "metadata": {
        "id": "WVs4J1jQbESU"
      }
    },
    {
      "cell_type": "markdown",
      "source": [
        "- Below is a map of Minnesoda counties\n",
        "\n",
        "```markdown\n",
        "https://drive.google.com/file/d/1WnJ8br4DT-BEh5-nRLhgZcTIRw-y0ccs/view?usp=sharing\n",
        "```\n",
        "\n",
        "- After finishing the two steps below, a link can be created to correctly rendered in Google Colab\n",
        "  - Deleted **`/view?usp=sharing`** at the end of the link\n",
        "  - Replaced **`/file/d/`** with **`/uc?export=view&id=`**\n",
        "\n",
        "```markdown\n",
        "https://drive.google.com/uc?export=view&id=1WnJ8br4DT-BEh5-nRLhgZcTIRw-y0ccs\n",
        "\n",
        "- The map can be inserted in Google Colab following the syntax [from here](https://drive.google.com/uc?export=view&id=1WnJ8br4DT-BEh5-nRLhgZcTIRw-y0ccs)\n",
        "\n",
        "```markdown\n",
        "Insert the map here using syntax:\n",
        "![MN map](https://drive.google.com/uc?export=view&id=1WnJ8br4DT-BEh5-nRLhgZcTIRw-y0ccs)\n",
        "```\n",
        "\n",
        "![MN map](https://drive.google.com/uc?export=view&id=1WnJ8br4DT-BEh5-nRLhgZcTIRw-y0ccs)"
      ],
      "metadata": {
        "id": "wkJqun7umRRk"
      }
    },
    {
      "cell_type": "markdown",
      "source": [
        "## **Coordinates of selected points in Minnesoda map**\n",
        "\n",
        "| Point      | X coordinate (lon)  | Y coordinate (lat) |\n",
        "| ------- | --------------------- |------------------- |\n",
        "| northeast corner of Ramsey County     | 92.9896828°W| 45.1214660°N |"
      ],
      "metadata": {
        "id": "5bk5DtYP3f_g"
      }
    },
    {
      "cell_type": "markdown",
      "source": [
        "## **Information of the coordinate systems**\n",
        "\n",
        "- By checking the **`Layer Properties`**, we can obtain the following info about the coordinate system used in map\n",
        "\n",
        "\n",
        "| Variable      | Information  |\n",
        "| ----------------------------- | -------------------------- |\n",
        "| Projection used in map     | Albers|\n",
        "| Projection zone number     | 6350   |\n",
        "| Coordinate system      |NAD 1983 (2011) Contiguous USA Albers|\n",
        "| Datum |NAD 1983 2011|\n"
      ],
      "metadata": {
        "id": "i4RTLellbUh7"
      }
    },
    {
      "cell_type": "markdown",
      "source": [
        "## **Save and share this notebook**\n",
        "\n",
        "- Make this notebook viewable by anyone with the link and submit the link to Canvas as Week 3 assignment"
      ],
      "metadata": {
        "id": "kkgukjDcXsqC"
      }
    },
    {
      "cell_type": "markdown",
      "source": [
        "## **Reference**\n",
        "\n",
        "- [Markdown cheat sheet](https://www.markdownguide.org/cheat-sheet/)"
      ],
      "metadata": {
        "id": "fvMbEX89YLeY"
      }
    }
  ]
}