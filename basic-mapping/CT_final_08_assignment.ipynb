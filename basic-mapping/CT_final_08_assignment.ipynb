{
  "nbformat": 4,
  "nbformat_minor": 0,
  "metadata": {
    "colab": {
      "provenance": [],
      "include_colab_link": true
    },
    "kernelspec": {
      "name": "python3",
      "display_name": "Python 3"
    },
    "language_info": {
      "name": "python"
    }
  },
  "cells": [
    {
      "cell_type": "markdown",
      "metadata": {
        "id": "view-in-github",
        "colab_type": "text"
      },
      "source": [
        "<a href=\"https://colab.research.google.com/github/theiscb/GEO441-gis-portfolio/blob/main/basic-mapping/CT_final_08_assignment.ipynb\" target=\"_parent\"><img src=\"https://colab.research.google.com/assets/colab-badge.svg\" alt=\"Open In Colab\"/></a>"
      ]
    },
    {
      "cell_type": "markdown",
      "source": [
        "# **Mapping digital elevation and hydrology data**"
      ],
      "metadata": {
        "id": "C0ymCPR5aSHN"
      }
    },
    {
      "cell_type": "markdown",
      "source": [
        "🚀 Created by Caleb Theis\n",
        "\n",
        "10/20/2024"
      ],
      "metadata": {
        "id": "Pt_OREXFPvkr"
      }
    },
    {
      "cell_type": "markdown",
      "source": [
        "## **Get ready to start**\n",
        "\n",
        "- Click **`File/Save a copy in Drive`** to save a copy of this notebook to my own Google Drive"
      ],
      "metadata": {
        "id": "CMQN_pgaHVLO"
      }
    },
    {
      "cell_type": "markdown",
      "source": [
        "## **Overview**\n",
        "\n",
        "This notebook contains the following two parts:\n",
        "\n",
        "- Create a map following the [assignment guide](https://miamioh.instructure.com/files/33254544/download?download_frd=1) for a digital elevation model of [Lower St. Croix watershed in Minnesoda](https://www.pca.state.mn.us/watershed-information/lower-st-croix-river) and hydrological data from National Hydrological Data (NHD)\n",
        "- Identify at least one raster dataset that can be used in your group project\n",
        "  - Revisit our [project topic pool](https://colab.research.google.com/drive/1aLwfdEKYufJ5s0H8CxbtKfEopYriQGIi?usp=drive_link) if necessary"
      ],
      "metadata": {
        "id": "6tKmlbnzny_I"
      }
    },
    {
      "cell_type": "markdown",
      "source": [
        "## **Map of elevation and hydrological information of the Lower St. Croix River Watershed, MN**\n"
      ],
      "metadata": {
        "id": "WVs4J1jQbESU"
      }
    },
    {
      "cell_type": "markdown",
      "source": [
        "- Use the checklist below to make sure our map contains all necessary map content and is formatted correctly\n",
        "\n",
        "  - [ ] Contains a title with byline (i.e., by [your name])\n",
        "  - [ ] Use a larger and bold font type for the title\n",
        "  - [ ] Contains one layer of **NHD Flowline** with three types of flows\n",
        "    - [ ] Artificial Path\n",
        "    - [ ] Canal Ditch\n",
        "    - [ ] Stream River\n",
        "  - [ ] Contains a layer of **NHD Water Body** with two types\n",
        "    - [ ] Lake Pond\n",
        "    - [ ] Reservoir\n",
        "  - [ ] Contains a of **Elevation**\n",
        "  - [ ] A **hillshade** layer is added to the map to enhance the visualization of elevation, but **not included** in the legend\n",
        "  - [ ] Uses the elevation color ramp to visualize the **Elevation** layer by elevation\n",
        "  - [ ] Contains a map scale\n",
        "  - [ ] Contains a legend\n",
        "  - [ ] Contains a north arrow\n",
        "  - [ ] Uses a balanced layout for all map elements\n",
        "    - [ ] Map stays in the center of layout\n",
        "    - [ ] Font size of title is appropriate (not too big or too small)\n",
        "    - [ ] Legend, map scale bar, and north arrow are placed appropriately to avoid an overlap with the map layers\n",
        "    - [ ] Legend, map scale bar, and north arrow has an appropriate size (big enough to read information, small enough to reserve most of space for map layers"
      ],
      "metadata": {
        "id": "bXB_pi-aPTOT"
      }
    },
    {
      "cell_type": "markdown",
      "source": [
        "```markdown\n",
        "https://drive.google.com/file/d/1GJoV2SZYT5eOME3PEQY1jNbmMkCT5s7T/view?usp=drive_link\n",
        "```\n",
        "\n",
        "- After finishing the two steps below, a link can be created to correctly rendered in Google Colab\n",
        "  - Deleted **`/view?usp=sharing`** at the end of the link\n",
        "  - Replaced **`/file/d/`** with **`/uc?export=view&id=`**\n",
        "\n",
        "```markdown\n",
        "https://drive.google.com/uc?export=view&id=1GJoV2SZYT5eOME3PEQY1jNbmMkCT5s7T\n",
        "```\n",
        "\n",
        "- The map can be inserted in Google Colab following the syntax [from here](https://drive.google.com/uc?export=view&id=1GJoV2SZYT5eOME3PEQY1jNbmMkCT5s7T)\n",
        "\n",
        "\n",
        "\n",
        "![lower st croix watershed](https://drive.google.com/uc?export=view&id=1GJoV2SZYT5eOME3PEQY1jNbmMkCT5s7T)"
      ],
      "metadata": {
        "id": "wkJqun7umRRk"
      }
    },
    {
      "cell_type": "markdown",
      "source": [
        "## **Raster data for group project**\n",
        "\n",
        "- **Provide the name and the link to the raster dataset you identified for your group project**\n",
        "  - You can begin with the following portals\n",
        "    - [ArcGIS Living Atlas of the World](https://livingatlas.arcgis.com/en/home/)\n",
        "    - [NASAS WorldView](https://worldview.earthdata.nasa.gov/)\n",
        "      - Click **Add Layers** to identify datasets for different subjects (including **human dimensions**)\n",
        "    - [NASA Socioeconomic Data and Applications Center (SEDAC)](https://sedac.ciesin.columbia.edu/)\n",
        "\n",
        "| Name of Dataset | Dataset Producer | Link to Dataset |\n",
        "| ---------------- | ---------------- | ---------------- |\n",
        "| [Basic Demographic Characteristics, v4.11 (2020)] | [CIESIN] | [https://sedac.ciesin.columbia.edu/data/set/gpw-v4-basic-demographic-characteristics-rev11] |"
      ],
      "metadata": {
        "id": "d8B4v6BIJYRw"
      }
    },
    {
      "cell_type": "markdown",
      "source": [
        "- **Provide the specifics of the raster dataset you identified**\n",
        "\n",
        "| Spatial Resolution | Temporal Resolution* | Spatial Extent |\n",
        "| ---------------- | ---------------- | ---------------- |\n",
        "| [Decimal Degree] | [Multi-Year (10)] | [Continental USA] |\n",
        "\n"
      ],
      "metadata": {
        "id": "xuG1CFbBlawa"
      }
    },
    {
      "cell_type": "markdown",
      "source": [
        "- **Why is the dataset you selected an appropriate choice for your current project?** Explain from the perspectives of the content of the data, spatial resolution, temporal resolution (daily, monthly, yearly acquisition), and/or spatial extent covered.\n",
        "\n",
        "I selected data from the Basic Demographic Characteristics set from 2020. I chose this set because it containts fields representetive of college aged students in my target areas. This data is also useful in the ways that it includes information for all states within the USA."
      ],
      "metadata": {
        "id": "SKZskx02mMvl"
      }
    },
    {
      "cell_type": "markdown",
      "source": [
        "## **Save and share this notebook**\n",
        "\n",
        "- Make this notebook viewable by anyone with the link and submit the link to Canvas as Week 8 assignment"
      ],
      "metadata": {
        "id": "kkgukjDcXsqC"
      }
    },
    {
      "cell_type": "markdown",
      "source": [
        "## **Reference**\n",
        "\n",
        "- [Markdown cheat sheet](https://www.markdownguide.org/cheat-sheet/)\n"
      ],
      "metadata": {
        "id": "fvMbEX89YLeY"
      }
    }
  ]
}