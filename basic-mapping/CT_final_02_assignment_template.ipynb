{
  "nbformat": 4,
  "nbformat_minor": 0,
  "metadata": {
    "colab": {
      "provenance": [],
      "include_colab_link": true
    },
    "kernelspec": {
      "name": "python3",
      "display_name": "Python 3"
    },
    "language_info": {
      "name": "python"
    }
  },
  "cells": [
    {
      "cell_type": "markdown",
      "metadata": {
        "id": "view-in-github",
        "colab_type": "text"
      },
      "source": [
        "<a href=\"https://colab.research.google.com/github/theiscb/GEO441-gis-portfolio/blob/main/basic-mapping/CT_final_02_assignment_template.ipynb\" target=\"_parent\"><img src=\"https://colab.research.google.com/assets/colab-badge.svg\" alt=\"Open In Colab\"/></a>"
      ]
    },
    {
      "cell_type": "markdown",
      "source": [
        "# **GEO 441B/541B Week 2 Assignment: Data Model and More Mapping**"
      ],
      "metadata": {
        "id": "C0ymCPR5aSHN"
      }
    },
    {
      "cell_type": "markdown",
      "source": [
        "🚀 Created by Caleb Theis\n",
        "\n",
        "9/15/2024"
      ],
      "metadata": {
        "id": "Pt_OREXFPvkr"
      }
    },
    {
      "cell_type": "markdown",
      "source": [
        "## **Get ready to start**\n",
        "\n",
        "- Click **`File/Save a copy in Drive`** to save a copy of this notebook to my own Google Drive"
      ],
      "metadata": {
        "id": "CMQN_pgaHVLO"
      }
    },
    {
      "cell_type": "markdown",
      "source": [
        "## **Adding multiple map frames to one layout**\n"
      ],
      "metadata": {
        "id": "WVs4J1jQbESU"
      }
    },
    {
      "cell_type": "markdown",
      "source": [
        "\n",
        "### **Map with only one map frame**\n",
        "\n",
        "- Below is a map with only one map frame that I created last week\n",
        "\n",
        "```markdown\n",
        "[https://drive.google.com/file/d/1HoH_kEISgGwHvOe6sqhaOHBvn5xU1Duy/view?usp=drive_link]\n",
        "```\n",
        "\n",
        "- After finishing the two steps below, I was able to create a link can be correctly rendered in Google Colab to show the map\n",
        "  - Deleted **`/view?usp=sharing`** at the end of the link\n",
        "  - Replaced **`/file/d/`** with **`/uc?export=view&id=`**\n",
        "\n",
        "```markdown\n",
        "[https://drive.google.com/uc?export=view&id=1HoH_kEISgGwHvOe6sqhaOHBvn5xU1Duy]\n",
        "```\n",
        "\n",
        "- The map can be inserted in Google Colab following the syntax [from here](https://drive.google.com/uc?export=view&id=1HoH_kEISgGwHvOe6sqhaOHBvn5xU1Duy)\n",
        "\n"
      ],
      "metadata": {
        "id": "GSCJLg-YkOIx"
      }
    },
    {
      "cell_type": "markdown",
      "source": [
        "###**Map with multiple map frames**\n",
        "\n",
        "- Below is a map with **two map frames** I prepared this week\n",
        "\n",
        "```markdown\n",
        "[https://drive.google.com/file/d/1R6Kt2QR9dskQBna_VvGcGjQDJf81-AJC/view?usp=drive_link]\n",
        "```\n",
        "\n",
        "- After finishing the two steps below, I was able to create a link can be correctly rendered in Google Colab to show the map\n",
        "  - Deleted **`/view?usp=sharing`** at the end of the link\n",
        "  - Replaced **`/file/d/`** with **`/uc?export=view&id=`**\n",
        "\n",
        "```markdown\n",
        "[https://drive.google.com/uc?export=view&id=1R6Kt2QR9dskQBna_VvGcGjQDJf81-AJC]\n",
        "```\n",
        "\n",
        "- The map can be inserted in Google Colab following the syntax [from here](https://drive.google.com/uc?export=view&id=1R6Kt2QR9dskQBna_VvGcGjQDJf81-AJC)\n",
        "\n"
      ],
      "metadata": {
        "id": "wkJqun7umRRk"
      }
    },
    {
      "cell_type": "markdown",
      "source": [
        "##**Create a geodatabase in ArcGIS Pro**\n",
        "\n",
        "- Follow directions in [this file](https://miamioh.instructure.com/courses/218994/files/32772417?wrap=1) to create a new geodatabase and feature dataset using ArcGIS Pro\n",
        "\n",
        "- Insert a screenshot of the content of my newly created geodatabase below\n",
        "  - [Taking a screenshot in Windows PC](https://www.cnet.com/tech/computing/need-to-take-a-screenshot-with-windows-11-heres-how/)\n",
        "  - [Taking a screenshot in macOS](https://support.apple.com/en-us/102646#:~:text=How%20to%20take%20a%20screenshot,it%20to%20edit%20the%20screenshot.)\n",
        "    - Mac users: if you are using remote access to finish this step, please follow the directions of taking a screenshot in macOS to obtain your screenshot\n",
        "- I can follow the directions in the previous section to obtain a shareable link from Google Drive and turn it into a render-able format for Google Colab\n",
        "\n",
        "https://drive.google.com/uc?export=view&id=1PGWW-gOiOcjEl-T6IbYn0sDba54AvyEl"
      ],
      "metadata": {
        "id": "Y1LEwJhSmiRU"
      }
    },
    {
      "cell_type": "markdown",
      "source": [
        "## **Reflection on data management function in ArcGIS Pro**\n",
        "\n",
        "- **Write a 100-word paragraph to describe the relationship between**\n",
        "  - **`Geodatabase`**\n",
        "  - **`Feature Dataset`**\n",
        "  - **`Feature Classes`**\n",
        "  - You can refer to **Page 9** of [assignment guide](https://miamioh.instructure.com/files/32771219/download?download_frd=1) or other resources online, such as\n",
        "    - [Fundamentals of geodatabase](https://pro.arcgis.com/en/pro-app/latest/help/data/geodatabases/overview/fundamentals-of-the-geodatabase.htm)\n",
        "    - [Feature datasets in ArcGIS Pro](https://pro.arcgis.com/en/pro-app/latest/help/data/feature-datasets/feature-datasets-in-arcgis-pro.htm)\n",
        "- Geodatabase: Acts as a stoage area for various pieces of data within the sofware. This is capable of soring classes, tables, and datasets\n",
        "-Feature Dataset: An assortment of feautre classes within the geodatabase that present similars refernce systems. These allow for datasets to be cross compatable\n",
        "- Feature Classes: These serve are singular datasets within a geodatabase. They usually represent geographic features like points, lines, and polygons\n"
      ],
      "metadata": {
        "id": "i4RTLellbUh7"
      }
    },
    {
      "cell_type": "markdown",
      "source": [
        "## **Save and share this notebook**\n",
        "\n",
        "- I made this notebook viewable by anyone with the link and submit the link to Canvas as Week 2 assignment"
      ],
      "metadata": {
        "id": "kkgukjDcXsqC"
      }
    },
    {
      "cell_type": "markdown",
      "source": [
        "## **Reference**\n",
        "\n",
        "- [Markdown cheat sheet](https://www.markdownguide.org/cheat-sheet/)\n"
      ],
      "metadata": {
        "id": "fvMbEX89YLeY"
      }
    }
  ]
}